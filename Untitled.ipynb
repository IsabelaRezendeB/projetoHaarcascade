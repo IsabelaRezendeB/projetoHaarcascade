{
 "cells": [
  {
   "cell_type": "code",
   "execution_count": 22,
   "id": "1eba7a28",
   "metadata": {},
   "outputs": [
    {
     "name": "stdout",
     "output_type": "stream",
     "text": [
      "[[854 173  66  66]\n",
      " [281 182  66  66]\n",
      " [506 153  76  76]\n",
      " [104 215  74  74]\n",
      " [668 219  74  74]]\n",
      "5\n"
     ]
    }
   ],
   "source": [
    "import cv2\n",
    "\n",
    "# Leitura da imagem\n",
    "imagem = cv2.imread('Testes Pessoas/pessoas2.jpg')\n",
    "\n",
    "# Chamando o classificador\n",
    "classificador = cv2.CascadeClassifier('haarcascade_frontalface_default.xml')\n",
    "\n",
    "# Transformando a imagem em cinza\n",
    "imagemcinza = cv2.cvtColor(imagem, cv2.COLOR_BGR2GRAY)\n",
    "\n",
    "# Fazendo as detecções\n",
    "deteccoes = classificador.detectMultiScale(imagemcinza,\n",
    "                                           scaleFactor=1.4,\n",
    "                                           minNeighbors=10,\n",
    "                                           #minSize=(30,30),\n",
    "                                           #maxSize =(130,130)\n",
    "                                          )\n",
    "\n",
    "# Printa array\n",
    "print(deteccoes)\n",
    "\n",
    "# Printa número de detecções\n",
    "print(len(deteccoes))\n",
    "\n",
    "# left (x), top (y), width, height para definir o bouding box\n",
    "for(x, y, l, a) in deteccoes:\n",
    "    cv2.rectangle(imagem, (x,y), (x + l, y + a), (0,255,0), 2) # Imagem, inicio do retangulo, fim, cor e espessura da linha\n",
    "\n",
    "cv2.imshow('Detector de faces', imagem)\n",
    "cv2.waitKey(0)\n",
    "cv2.destroyAllWindows()"
   ]
  },
  {
   "cell_type": "code",
   "execution_count": 8,
   "id": "917106f5",
   "metadata": {},
   "outputs": [],
   "source": [
    "import cv2\n",
    "\n",
    "# Leitura da imagem\n",
    "imagem = cv2.imread('Testes Canecas/teste10.jpg')\n",
    "\n",
    "# Chamando o classificador\n",
    "classificador = cv2.CascadeClassifier('cascade_canecas.xml')\n",
    "\n",
    "# Transformando a imagem em cinza\n",
    "imagemcinza = cv2.cvtColor(imagem, cv2.COLOR_BGR2GRAY)\n",
    "\n",
    "# Fazendo as detecções\n",
    "deteccoes = classificador.detectMultiScale(imagemcinza, scaleFactor=1.1, minNeighbors=4)\n",
    "\n",
    "# left (x), top (y), width, height para definir o bouding box\n",
    "for(x, y, l, a) in deteccoes:\n",
    "    cv2.rectangle(imagem, (x,y), (x + l, y + a), (0,255,0), 2) # Imagem, inicio do retangulo, fim, cor e espessura da linha\n",
    "\n",
    "cv2.imshow('Detector de canecas', imagem)\n",
    "cv2.waitKey(0)\n",
    "cv2.destroyAllWindows()"
   ]
  },
  {
   "cell_type": "code",
   "execution_count": null,
   "id": "d46a29ee",
   "metadata": {},
   "outputs": [],
   "source": []
  }
 ],
 "metadata": {
  "kernelspec": {
   "display_name": "Python 3 (ipykernel)",
   "language": "python",
   "name": "python3"
  },
  "language_info": {
   "codemirror_mode": {
    "name": "ipython",
    "version": 3
   },
   "file_extension": ".py",
   "mimetype": "text/x-python",
   "name": "python",
   "nbconvert_exporter": "python",
   "pygments_lexer": "ipython3",
   "version": "3.9.7"
  }
 },
 "nbformat": 4,
 "nbformat_minor": 5
}
